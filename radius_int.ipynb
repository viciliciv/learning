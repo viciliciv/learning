# QUESTION 1)

#Some email automation services have a list of prefixes that they don't allow you to send. For example, any email starting with 'info@' will be flagged. Our goal is to filter out all emails that have a bad prefix.

# Given:
# 1) A List of 'bad_prefixes'
# 2) A list of 'emails_to_send'

# OUTPUT: A list of all emails that will not be flagged.

bad_prefixes = ["admin@", "administration@", "advisor@", "alexa@", "all@", "available@", "billing@", "info@"]

emails_to_send = ["david@snooztime.com", "harding@digitalmediaacademy.org", "all@radius.com", "england@gossingconstruction.com", "margarita@imarmol.com", "natalia@imarmol.com", "advisor@radius.com","israel@imarmol.com", "info@radius.com", "taran@vikingmoving.com", "pw@vikingmoving.com", "allison@livingproofnyc.com", "lisa@livingproofnyc.com", "justine@denisonfarm.com", "ksanders@milwaukeehidta.org", "admin@radius.com", "kenny@planetcotton.com", "will@pennandseaborn.com", "shane@pennandseaborn.com", "matt@oakmontfamilydental.com", "charlie@bootyparlor.com", "billing@radius.com", "angela@100block.org", "aselmi@montebianco-usa.com", "cvanderzee@cbdconsulting.com"]

def filter_bad_emails(prefixes_to_filter, emails):
    pass

# Solution


# QUESTION 2)
# /*
#  *  Every year, the government lists the most popular baby names 
#  *  (name and count). The problem is that some names have multiple 
#  *  spellings and are listed separately (like "Michael" and "Mike").
#  *  Given a list of baby names and a list of equivalent name pairs, 
#  *  write an algorithm to print a new list of the unique names and 
#  *  their count.
#  */

names = [
  ("Jen", 4), 
  ("Jenny", 5), 
  ("Jennifer", 3), 
  ("Michael", 2), 
  ("Mike", 3), 
  ("Sara", 4), 
  ("Sarah", 2), 
  ("David", 3)
]

synonyms = [
      ("Jen", "Jenny"),
      ("Jenny", "Jennifer"),
      ("Sara", "Sarah"),
      ("Michael", "Mike")
]


# Solution
def unique_name_counts(names, synonyms): 
    pass
