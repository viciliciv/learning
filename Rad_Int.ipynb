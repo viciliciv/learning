{
 "cells": [
  {
   "cell_type": "code",
   "execution_count": 5,
   "metadata": {
    "collapsed": true
   },
   "outputs": [],
   "source": [
    "# QUESTION 1)\n",
    "\n",
    "#Some email automation services have a list of prefixes that they don't allow you to send. For example, any email starting with 'info@' will be flagged. Our goal is to filter out all emails that have a bad prefix.\n",
    "\n",
    "# Given:\n",
    "# 1) A List of 'bad_prefixes'\n",
    "# 2) A list of 'emails_to_send'\n",
    "\n",
    "# OUTPUT: A list of all emails that will not be flagged.\n",
    "\n",
    "bad_prefixes = [\"admin@\", \"administration@\", \"advisor@\", \"alexa@\", \"all@\", \"available@\", \"billing@\", \"info@\"]\n",
    "\n",
    "emails_to_send = [\"david@snooztime.com\", \"harding@digitalmediaacademy.org\", \"all@radius.com\", \"england@gossingconstruction.com\", \"margarita@imarmol.com\", \"natalia@imarmol.com\", \"advisor@radius.com\",\"israel@imarmol.com\", \"info@radius.com\", \"taran@vikingmoving.com\", \"pw@vikingmoving.com\", \"allison@livingproofnyc.com\", \"lisa@livingproofnyc.com\", \"justine@denisonfarm.com\", \"ksanders@milwaukeehidta.org\", \"admin@radius.com\", \"kenny@planetcotton.com\", \"will@pennandseaborn.com\", \"shane@pennandseaborn.com\", \"matt@oakmontfamilydental.com\", \"charlie@bootyparlor.com\", \"billing@radius.com\", \"angela@100block.org\", \"aselmi@montebianco-usa.com\", \"cvanderzee@cbdconsulting.com\"]\n",
    "\n",
    "def filter_bad_emails(prefixes_to_filter, emails):\n",
    "    for i in emails:\n",
    "        for x in prefixes_to_filter:\n",
    "            if x in emails:\n",
    "                del emails\n",
    "    print emails\n",
    "        \n",
    "\n",
    "# Solution\n",
    "\n",
    "\n",
    "# QUESTION 2)\n",
    "# /*\n",
    "#  *  Every year, the government lists the most popular baby names \n",
    "#  *  (name and count). The problem is that some names have multiple \n",
    "#  *  spellings and are listed separately (like \"Michael\" and \"Mike\").\n",
    "#  *  Given a list of baby names and a list of equivalent name pairs, \n",
    "#  *  write an algorithm to print a new list of the unique names and \n",
    "#  *  their count.\n",
    "#  */\n",
    "\n",
    "names = [\n",
    "  (\"Jen\", 4), \n",
    "  (\"Jenny\", 5), \n",
    "  (\"Jennifer\", 3), \n",
    "  (\"Michael\", 2), \n",
    "  (\"Mike\", 3), \n",
    "  (\"Sara\", 4), \n",
    "  (\"Sarah\", 2), \n",
    "  (\"David\", 3)\n",
    "]\n",
    "\n",
    "synonyms = [\n",
    "      (\"Jen\", \"Jenny\"),\n",
    "      (\"Jenny\", \"Jennifer\"),\n",
    "      (\"Sara\", \"Sarah\"),\n",
    "      (\"Michael\", \"Mike\")\n",
    "]\n",
    "\n",
    "\n",
    "# Solution\n",
    "def unique_name_counts(names, synonyms): \n",
    "    for i in range(len(names)):\n",
    "        nm = list(names[i])        \n",
    "        for x in range(len(synonyms)):\n",
    "            x  = list(synonyms[x])\n",
    "            if nm[0] ==  x[0]:\n",
    "                nm[0]=x[1]\n",
    "                names[i] = (nm[0],nm[1])\n",
    "    return names\n"
   ]
  },
  {
   "cell_type": "code",
   "execution_count": 3,
   "metadata": {},
   "outputs": [
    {
     "name": "stdout",
     "output_type": "stream",
     "text": [
      "['david@snooztime.com', 'harding@digitalmediaacademy.org', 'all@radius.com', 'england@gossingconstruction.com', 'margarita@imarmol.com', 'natalia@imarmol.com', 'advisor@radius.com', 'israel@imarmol.com', 'info@radius.com', 'taran@vikingmoving.com', 'pw@vikingmoving.com', 'allison@livingproofnyc.com', 'lisa@livingproofnyc.com', 'justine@denisonfarm.com', 'ksanders@milwaukeehidta.org', 'admin@radius.com', 'kenny@planetcotton.com', 'will@pennandseaborn.com', 'shane@pennandseaborn.com', 'matt@oakmontfamilydental.com', 'charlie@bootyparlor.com', 'billing@radius.com', 'angela@100block.org', 'aselmi@montebianco-usa.com', 'cvanderzee@cbdconsulting.com']\n"
     ]
    }
   ],
   "source": [
    "filter_bad_emails(bad_prefixes,emails_to_send) "
   ]
  },
  {
   "cell_type": "code",
   "execution_count": 6,
   "metadata": {},
   "outputs": [
    {
     "data": {
      "text/plain": [
       "[('Jennifer', 4),\n",
       " ('Jennifer', 5),\n",
       " ('Jennifer', 3),\n",
       " ('Mike', 2),\n",
       " ('Mike', 3),\n",
       " ('Sarah', 4),\n",
       " ('Sarah', 2),\n",
       " ('David', 3)]"
      ]
     },
     "execution_count": 6,
     "metadata": {},
     "output_type": "execute_result"
    }
   ],
   "source": [
    "unique_name_counts(names, synonyms)"
   ]
  },
  {
   "cell_type": "code",
   "execution_count": null,
   "metadata": {
    "collapsed": true
   },
   "outputs": [],
   "source": []
  }
 ],
 "metadata": {
  "kernelspec": {
   "display_name": "Python [Root]",
   "language": "python",
   "name": "Python [Root]"
  },
  "language_info": {
   "codemirror_mode": {
    "name": "ipython",
    "version": 2
   },
   "file_extension": ".py",
   "mimetype": "text/x-python",
   "name": "python",
   "nbconvert_exporter": "python",
   "pygments_lexer": "ipython2",
   "version": "2.7.13"
  }
 },
 "nbformat": 4,
 "nbformat_minor": 2
}
